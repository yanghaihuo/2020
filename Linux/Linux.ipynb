{
 "cells": [
  {
   "cell_type": "code",
   "execution_count": null,
   "metadata": {},
   "outputs": [],
   "source": [
    "# 重启 \n",
    "reboot\n",
    "# 关机\n",
    "poweroff\n",
    "\n",
    "# 一次性建立多级目录\n",
    "mkdir -p /home/dir1/dir2/dir3\n",
    "\n",
    "# 通过cat命令和输出重定向命令将一个文件的内容输出到另一个文件中去，即我们常说的将两个文件进行合并\n",
    "cat /etc/passwd >> /home/passwd_bak\n",
    "\n",
    "sort -t “:” -k 3 /etc/passwd \n",
    "\n",
    "\n",
    "wc命令可以对文件的行数、单词数和字符数进行统计\n",
    "\n",
    "df命令用来检查硬盘分区和已挂在的文件系统的磁盘空间，检查硬盘的使用量\n",
    "df -ah\n",
    "\n",
    "du 命令的功能是用于显示文件目录或大小\n",
    "\n",
    "ps 根据程序名称查询进程ID \n",
    "ps -ef|grep  进程名      以全格式显示进程所有信息，包括父进程Pid，创建人，创建时间，进程号\n",
    "\n",
    "\n",
    "ps -aux 查看想要杀死的进程的编号\n",
    "kill -9 PID(PID进程号)\n",
    "\n",
    "# linux_强行杀死进程\n",
    "kill -s 9 PID(PID进程号)\n"
   ]
  }
 ],
 "metadata": {
  "kernelspec": {
   "display_name": "Python 3",
   "language": "python",
   "name": "python3"
  },
  "language_info": {
   "codemirror_mode": {
    "name": "ipython",
    "version": 3
   },
   "file_extension": ".py",
   "mimetype": "text/x-python",
   "name": "python",
   "nbconvert_exporter": "python",
   "pygments_lexer": "ipython3",
   "version": "3.7.3"
  }
 },
 "nbformat": 4,
 "nbformat_minor": 2
}
